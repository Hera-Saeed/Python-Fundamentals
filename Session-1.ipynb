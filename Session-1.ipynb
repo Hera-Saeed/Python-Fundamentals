{
 "cells": [
  {
   "cell_type": "code",
   "execution_count": 1,
   "id": "89824a52",
   "metadata": {},
   "outputs": [
    {
     "ename": "SyntaxError",
     "evalue": "invalid syntax (1408641722.py, line 1)",
     "output_type": "error",
     "traceback": [
      "\u001b[1;36m  Cell \u001b[1;32mIn[1], line 1\u001b[1;36m\u001b[0m\n\u001b[1;33m    2.3.2\u001b[0m\n\u001b[1;37m       ^\u001b[0m\n\u001b[1;31mSyntaxError\u001b[0m\u001b[1;31m:\u001b[0m invalid syntax\n"
     ]
    }
   ],
   "source": [
    "\n",
    "2.3.2"
   ]
  },
  {
   "cell_type": "code",
   "execution_count": null,
   "id": "fa245296",
   "metadata": {},
   "outputs": [],
   "source": []
  },
  {
   "cell_type": "raw",
   "id": "a01d6778",
   "metadata": {},
   "source": [
    "1+2"
   ]
  },
  {
   "cell_type": "code",
   "execution_count": 3,
   "id": "e848775c",
   "metadata": {},
   "outputs": [
    {
     "data": {
      "text/plain": [
       "4.3"
      ]
     },
     "execution_count": 3,
     "metadata": {},
     "output_type": "execute_result"
    }
   ],
   "source": [
    "2.30 + 2"
   ]
  },
  {
   "cell_type": "code",
   "execution_count": 4,
   "id": "c770f47b",
   "metadata": {},
   "outputs": [
    {
     "data": {
      "text/plain": [
       "'Hera'"
      ]
     },
     "execution_count": 4,
     "metadata": {},
     "output_type": "execute_result"
    }
   ],
   "source": [
    "\"Hera\""
   ]
  },
  {
   "cell_type": "code",
   "execution_count": 5,
   "id": "983950af",
   "metadata": {},
   "outputs": [
    {
     "ename": "NameError",
     "evalue": "name 'Hera' is not defined",
     "output_type": "error",
     "traceback": [
      "\u001b[1;31m---------------------------------------------------------------------------\u001b[0m",
      "\u001b[1;31mNameError\u001b[0m                                 Traceback (most recent call last)",
      "Cell \u001b[1;32mIn[5], line 1\u001b[0m\n\u001b[1;32m----> 1\u001b[0m \u001b[43mHera\u001b[49m\n",
      "\u001b[1;31mNameError\u001b[0m: name 'Hera' is not defined"
     ]
    }
   ],
   "source": [
    "Hera"
   ]
  },
  {
   "cell_type": "code",
   "execution_count": 6,
   "id": "11ad2a98",
   "metadata": {},
   "outputs": [
    {
     "data": {
      "text/plain": [
       "'Hera'"
      ]
     },
     "execution_count": 6,
     "metadata": {},
     "output_type": "execute_result"
    }
   ],
   "source": [
    "'Hera'"
   ]
  },
  {
   "cell_type": "code",
   "execution_count": 7,
   "id": "7bb4da03",
   "metadata": {},
   "outputs": [
    {
     "data": {
      "text/plain": [
       "'Hera2'"
      ]
     },
     "execution_count": 7,
     "metadata": {},
     "output_type": "execute_result"
    }
   ],
   "source": [
    "\"Hera2\""
   ]
  },
  {
   "cell_type": "code",
   "execution_count": 8,
   "id": "058958f4",
   "metadata": {},
   "outputs": [
    {
     "ename": "SyntaxError",
     "evalue": "unterminated string literal (detected at line 1) (3121301613.py, line 1)",
     "output_type": "error",
     "traceback": [
      "\u001b[1;36m  Cell \u001b[1;32mIn[8], line 1\u001b[1;36m\u001b[0m\n\u001b[1;33m    'Shabir's house'\u001b[0m\n\u001b[1;37m                   ^\u001b[0m\n\u001b[1;31mSyntaxError\u001b[0m\u001b[1;31m:\u001b[0m unterminated string literal (detected at line 1)\n"
     ]
    }
   ],
   "source": [
    "'Shabir's house'"
   ]
  },
  {
   "cell_type": "code",
   "execution_count": 9,
   "id": "815d530d",
   "metadata": {},
   "outputs": [
    {
     "data": {
      "text/plain": [
       "\"Shabir's house\""
      ]
     },
     "execution_count": 9,
     "metadata": {},
     "output_type": "execute_result"
    }
   ],
   "source": [
    "\"Shabir's house\""
   ]
  },
  {
   "cell_type": "code",
   "execution_count": 10,
   "id": "a504bf58",
   "metadata": {},
   "outputs": [
    {
     "data": {
      "text/plain": [
       "\"Shabir's house\""
      ]
     },
     "execution_count": 10,
     "metadata": {},
     "output_type": "execute_result"
    }
   ],
   "source": [
    "'Shabir\\'s house'"
   ]
  },
  {
   "cell_type": "code",
   "execution_count": 1,
   "id": "3c12ddc6",
   "metadata": {},
   "outputs": [
    {
     "data": {
      "text/plain": [
       "\"This is waqas' house\""
      ]
     },
     "execution_count": 1,
     "metadata": {},
     "output_type": "execute_result"
    }
   ],
   "source": [
    "\"This is waqas' house\" #any noun ending at s & we want to use 's, at that time we will end that noun at ', like waqas'"
   ]
  },
  {
   "cell_type": "code",
   "execution_count": 2,
   "id": "b106c101",
   "metadata": {},
   "outputs": [
    {
     "data": {
      "text/plain": [
       "\"This is the first session\\nand we are doing python's programming\""
      ]
     },
     "execution_count": 2,
     "metadata": {},
     "output_type": "execute_result"
    }
   ],
   "source": [
    "\"\"\"This is the first session\n",
    "and we are doing python's programming\"\"\" #we use tripple quotes to use string in multiple line"
   ]
  },
  {
   "cell_type": "code",
   "execution_count": 3,
   "id": "8838dac5",
   "metadata": {},
   "outputs": [
    {
     "data": {
      "text/plain": [
       "\"This is the first session\\nand we are doing python's programming\""
      ]
     },
     "execution_count": 3,
     "metadata": {},
     "output_type": "execute_result"
    }
   ],
   "source": [
    "'''This is the first session\n",
    "and we are doing python's programming''' #\\n will be displayed showing we're using another line"
   ]
  },
  {
   "cell_type": "code",
   "execution_count": 4,
   "id": "db7fc1f2",
   "metadata": {},
   "outputs": [
    {
     "name": "stdout",
     "output_type": "stream",
     "text": [
      "This is the first session\n",
      "and we are doing python's programming\n"
     ]
    }
   ],
   "source": [
    "print('''This is the first session\n",
    "and we are doing python's programming''') #it will print as is it without \\n"
   ]
  },
  {
   "cell_type": "code",
   "execution_count": null,
   "id": "236650a2",
   "metadata": {},
   "outputs": [],
   "source": []
  }
 ],
 "metadata": {
  "kernelspec": {
   "display_name": "Python 3 (ipykernel)",
   "language": "python",
   "name": "python3"
  },
  "language_info": {
   "codemirror_mode": {
    "name": "ipython",
    "version": 3
   },
   "file_extension": ".py",
   "mimetype": "text/x-python",
   "name": "python",
   "nbconvert_exporter": "python",
   "pygments_lexer": "ipython3",
   "version": "3.10.9"
  }
 },
 "nbformat": 4,
 "nbformat_minor": 5
}
