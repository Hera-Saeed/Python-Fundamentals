{
 "cells": [
  {
   "cell_type": "code",
   "execution_count": 1,
   "id": "d6d88ebb",
   "metadata": {},
   "outputs": [],
   "source": [
    "employee1 = [\"Asad\", 'Data Scientist', 4000]   #List is Hetrogenouos"
   ]
  },
  {
   "cell_type": "code",
   "execution_count": 2,
   "id": "207bdd12",
   "metadata": {},
   "outputs": [
    {
     "data": {
      "text/plain": [
       "'Asad'"
      ]
     },
     "execution_count": 2,
     "metadata": {},
     "output_type": "execute_result"
    }
   ],
   "source": [
    "employee1[0]"
   ]
  },
  {
   "cell_type": "code",
   "execution_count": 3,
   "id": "a22c7a1e",
   "metadata": {},
   "outputs": [
    {
     "data": {
      "text/plain": [
       "4000"
      ]
     },
     "execution_count": 3,
     "metadata": {},
     "output_type": "execute_result"
    }
   ],
   "source": [
    "employee1[-1]"
   ]
  },
  {
   "cell_type": "code",
   "execution_count": 4,
   "id": "08302691",
   "metadata": {},
   "outputs": [],
   "source": [
    "employee2 = [\"Iqra\", 'Data Scientist', 3800]"
   ]
  },
  {
   "cell_type": "code",
   "execution_count": 5,
   "id": "493d9617",
   "metadata": {},
   "outputs": [
    {
     "data": {
      "text/plain": [
       "['__add__',\n",
       " '__class__',\n",
       " '__class_getitem__',\n",
       " '__contains__',\n",
       " '__delattr__',\n",
       " '__delitem__',\n",
       " '__dir__',\n",
       " '__doc__',\n",
       " '__eq__',\n",
       " '__format__',\n",
       " '__ge__',\n",
       " '__getattribute__',\n",
       " '__getitem__',\n",
       " '__gt__',\n",
       " '__hash__',\n",
       " '__iadd__',\n",
       " '__imul__',\n",
       " '__init__',\n",
       " '__init_subclass__',\n",
       " '__iter__',\n",
       " '__le__',\n",
       " '__len__',\n",
       " '__lt__',\n",
       " '__mul__',\n",
       " '__ne__',\n",
       " '__new__',\n",
       " '__reduce__',\n",
       " '__reduce_ex__',\n",
       " '__repr__',\n",
       " '__reversed__',\n",
       " '__rmul__',\n",
       " '__setattr__',\n",
       " '__setitem__',\n",
       " '__sizeof__',\n",
       " '__str__',\n",
       " '__subclasshook__',\n",
       " 'append',\n",
       " 'clear',\n",
       " 'copy',\n",
       " 'count',\n",
       " 'extend',\n",
       " 'index',\n",
       " 'insert',\n",
       " 'pop',\n",
       " 'remove',\n",
       " 'reverse',\n",
       " 'sort']"
      ]
     },
     "execution_count": 5,
     "metadata": {},
     "output_type": "execute_result"
    }
   ],
   "source": [
    "dir(employee1)"
   ]
  },
  {
   "cell_type": "code",
   "execution_count": 6,
   "id": "68b17961",
   "metadata": {},
   "outputs": [],
   "source": [
    "None #to represent missing data"
   ]
  },
  {
   "cell_type": "code",
   "execution_count": 7,
   "id": "7be02e40",
   "metadata": {},
   "outputs": [],
   "source": [
    "data = None"
   ]
  },
  {
   "cell_type": "code",
   "execution_count": 8,
   "id": "b0b237a4",
   "metadata": {},
   "outputs": [],
   "source": [
    "# if we use del = \"Display\"\n",
    "# then how to restore the original functionality of del \n",
    "# __builtins__.del(del)"
   ]
  },
  {
   "cell_type": "code",
   "execution_count": 9,
   "id": "c3041074",
   "metadata": {},
   "outputs": [
    {
     "data": {
      "text/plain": [
       "['__add__',\n",
       " '__class__',\n",
       " '__class_getitem__',\n",
       " '__contains__',\n",
       " '__delattr__',\n",
       " '__delitem__',\n",
       " '__dir__',\n",
       " '__doc__',\n",
       " '__eq__',\n",
       " '__format__',\n",
       " '__ge__',\n",
       " '__getattribute__',\n",
       " '__getitem__',\n",
       " '__gt__',\n",
       " '__hash__',\n",
       " '__iadd__',\n",
       " '__imul__',\n",
       " '__init__',\n",
       " '__init_subclass__',\n",
       " '__iter__',\n",
       " '__le__',\n",
       " '__len__',\n",
       " '__lt__',\n",
       " '__mul__',\n",
       " '__ne__',\n",
       " '__new__',\n",
       " '__reduce__',\n",
       " '__reduce_ex__',\n",
       " '__repr__',\n",
       " '__reversed__',\n",
       " '__rmul__',\n",
       " '__setattr__',\n",
       " '__setitem__',\n",
       " '__sizeof__',\n",
       " '__str__',\n",
       " '__subclasshook__',\n",
       " 'append',\n",
       " 'clear',\n",
       " 'copy',\n",
       " 'count',\n",
       " 'extend',\n",
       " 'index',\n",
       " 'insert',\n",
       " 'pop',\n",
       " 'remove',\n",
       " 'reverse',\n",
       " 'sort']"
      ]
     },
     "execution_count": 9,
     "metadata": {},
     "output_type": "execute_result"
    }
   ],
   "source": [
    "dir(list)   # to see the function of list use dir"
   ]
  },
  {
   "cell_type": "code",
   "execution_count": 10,
   "id": "0fa0abc9",
   "metadata": {},
   "outputs": [
    {
     "data": {
      "text/plain": [
       "['__add__',\n",
       " '__class__',\n",
       " '__contains__',\n",
       " '__delattr__',\n",
       " '__dir__',\n",
       " '__doc__',\n",
       " '__eq__',\n",
       " '__format__',\n",
       " '__ge__',\n",
       " '__getattribute__',\n",
       " '__getitem__',\n",
       " '__getnewargs__',\n",
       " '__gt__',\n",
       " '__hash__',\n",
       " '__init__',\n",
       " '__init_subclass__',\n",
       " '__iter__',\n",
       " '__le__',\n",
       " '__len__',\n",
       " '__lt__',\n",
       " '__mod__',\n",
       " '__mul__',\n",
       " '__ne__',\n",
       " '__new__',\n",
       " '__reduce__',\n",
       " '__reduce_ex__',\n",
       " '__repr__',\n",
       " '__rmod__',\n",
       " '__rmul__',\n",
       " '__setattr__',\n",
       " '__sizeof__',\n",
       " '__str__',\n",
       " '__subclasshook__',\n",
       " 'capitalize',\n",
       " 'casefold',\n",
       " 'center',\n",
       " 'count',\n",
       " 'encode',\n",
       " 'endswith',\n",
       " 'expandtabs',\n",
       " 'find',\n",
       " 'format',\n",
       " 'format_map',\n",
       " 'index',\n",
       " 'isalnum',\n",
       " 'isalpha',\n",
       " 'isascii',\n",
       " 'isdecimal',\n",
       " 'isdigit',\n",
       " 'isidentifier',\n",
       " 'islower',\n",
       " 'isnumeric',\n",
       " 'isprintable',\n",
       " 'isspace',\n",
       " 'istitle',\n",
       " 'isupper',\n",
       " 'join',\n",
       " 'ljust',\n",
       " 'lower',\n",
       " 'lstrip',\n",
       " 'maketrans',\n",
       " 'partition',\n",
       " 'removeprefix',\n",
       " 'removesuffix',\n",
       " 'replace',\n",
       " 'rfind',\n",
       " 'rindex',\n",
       " 'rjust',\n",
       " 'rpartition',\n",
       " 'rsplit',\n",
       " 'rstrip',\n",
       " 'split',\n",
       " 'splitlines',\n",
       " 'startswith',\n",
       " 'strip',\n",
       " 'swapcase',\n",
       " 'title',\n",
       " 'translate',\n",
       " 'upper',\n",
       " 'zfill']"
      ]
     },
     "execution_count": 10,
     "metadata": {},
     "output_type": "execute_result"
    }
   ],
   "source": [
    "dir(str)"
   ]
  },
  {
   "cell_type": "code",
   "execution_count": 11,
   "id": "0a99fcf6",
   "metadata": {},
   "outputs": [],
   "source": [
    "employee1.append(\"0.5%\")"
   ]
  },
  {
   "cell_type": "code",
   "execution_count": 12,
   "id": "8bdac3fa",
   "metadata": {},
   "outputs": [],
   "source": [
    "employee1.append(\"0.35%\")"
   ]
  },
  {
   "cell_type": "code",
   "execution_count": 13,
   "id": "42423b52",
   "metadata": {},
   "outputs": [],
   "source": [
    "employee2.append(\"0.35%\")"
   ]
  },
  {
   "cell_type": "code",
   "execution_count": 14,
   "id": "a22f2f63",
   "metadata": {},
   "outputs": [
    {
     "data": {
      "text/plain": [
       "['Asad', 'Data Scientist', 4000, '0.5%', '0.35%']"
      ]
     },
     "execution_count": 14,
     "metadata": {},
     "output_type": "execute_result"
    }
   ],
   "source": [
    "employee1"
   ]
  },
  {
   "cell_type": "code",
   "execution_count": 15,
   "id": "b6fc28c4",
   "metadata": {},
   "outputs": [
    {
     "data": {
      "text/plain": [
       "['Iqra', 'Data Scientist', 3800, '0.35%']"
      ]
     },
     "execution_count": 15,
     "metadata": {},
     "output_type": "execute_result"
    }
   ],
   "source": [
    "employee2"
   ]
  },
  {
   "cell_type": "code",
   "execution_count": 16,
   "id": "35aff6ae",
   "metadata": {},
   "outputs": [],
   "source": [
    "employee1.remove(\"0.35%\")"
   ]
  },
  {
   "cell_type": "code",
   "execution_count": 17,
   "id": "b75e53c0",
   "metadata": {},
   "outputs": [
    {
     "data": {
      "text/plain": [
       "['Asad', 'Data Scientist', 4000, '0.5%']"
      ]
     },
     "execution_count": 17,
     "metadata": {},
     "output_type": "execute_result"
    }
   ],
   "source": [
    "employee1"
   ]
  },
  {
   "cell_type": "code",
   "execution_count": 18,
   "id": "0ce09931",
   "metadata": {},
   "outputs": [
    {
     "ename": "ValueError",
     "evalue": "list.remove(x): x not in list",
     "output_type": "error",
     "traceback": [
      "\u001b[1;31m---------------------------------------------------------------------------\u001b[0m",
      "\u001b[1;31mValueError\u001b[0m                                Traceback (most recent call last)",
      "Cell \u001b[1;32mIn[18], line 1\u001b[0m\n\u001b[1;32m----> 1\u001b[0m \u001b[43memployee1\u001b[49m\u001b[38;5;241;43m.\u001b[39;49m\u001b[43mremove\u001b[49m\u001b[43m(\u001b[49m\u001b[38;5;124;43m\"\u001b[39;49m\u001b[38;5;124;43m0.35\u001b[39;49m\u001b[38;5;124;43m%\u001b[39;49m\u001b[38;5;124;43m\"\u001b[39;49m\u001b[43m)\u001b[49m\n",
      "\u001b[1;31mValueError\u001b[0m: list.remove(x): x not in list"
     ]
    }
   ],
   "source": [
    "employee1.remove(\"0.35%\")"
   ]
  },
  {
   "cell_type": "code",
   "execution_count": 19,
   "id": "8b1f72ea",
   "metadata": {},
   "outputs": [],
   "source": [
    "employee1.append(\"0.35%\")"
   ]
  },
  {
   "cell_type": "code",
   "execution_count": 20,
   "id": "7cb35f33",
   "metadata": {},
   "outputs": [
    {
     "data": {
      "text/plain": [
       "['Asad', 'Data Scientist', 4000, '0.5%', '0.35%']"
      ]
     },
     "execution_count": 20,
     "metadata": {},
     "output_type": "execute_result"
    }
   ],
   "source": [
    "employee1"
   ]
  },
  {
   "cell_type": "code",
   "execution_count": 21,
   "id": "72f1d3ab",
   "metadata": {},
   "outputs": [],
   "source": [
    "del employee1[4]"
   ]
  },
  {
   "cell_type": "code",
   "execution_count": 22,
   "id": "3d7434fd",
   "metadata": {},
   "outputs": [
    {
     "data": {
      "text/plain": [
       "['Asad', 'Data Scientist', 4000, '0.5%']"
      ]
     },
     "execution_count": 22,
     "metadata": {},
     "output_type": "execute_result"
    }
   ],
   "source": [
    "employee1"
   ]
  },
  {
   "cell_type": "code",
   "execution_count": 23,
   "id": "76823477",
   "metadata": {},
   "outputs": [
    {
     "data": {
      "text/plain": [
       "'Data Scientist'"
      ]
     },
     "execution_count": 23,
     "metadata": {},
     "output_type": "execute_result"
    }
   ],
   "source": [
    "employee1[1]"
   ]
  },
  {
   "cell_type": "code",
   "execution_count": 24,
   "id": "29527c20",
   "metadata": {},
   "outputs": [
    {
     "ename": "IndexError",
     "evalue": "list assignment index out of range",
     "output_type": "error",
     "traceback": [
      "\u001b[1;31m---------------------------------------------------------------------------\u001b[0m",
      "\u001b[1;31mIndexError\u001b[0m                                Traceback (most recent call last)",
      "Cell \u001b[1;32mIn[24], line 1\u001b[0m\n\u001b[1;32m----> 1\u001b[0m \u001b[38;5;28;01mdel\u001b[39;00m employee1[\u001b[38;5;241m25\u001b[39m]\n",
      "\u001b[1;31mIndexError\u001b[0m: list assignment index out of range"
     ]
    }
   ],
   "source": [
    "del employee1[25]"
   ]
  },
  {
   "cell_type": "code",
   "execution_count": 25,
   "id": "31aa273e",
   "metadata": {},
   "outputs": [],
   "source": [
    "employee1[0] = \"Muhammd Asad\"\n",
    "employee2[0] = \"Iqra KaramUllah\""
   ]
  },
  {
   "cell_type": "code",
   "execution_count": 26,
   "id": "38c65fd6",
   "metadata": {},
   "outputs": [
    {
     "data": {
      "text/plain": [
       "['Muhammd Asad', 'Data Scientist', 4000, '0.5%']"
      ]
     },
     "execution_count": 26,
     "metadata": {},
     "output_type": "execute_result"
    }
   ],
   "source": [
    "employee1"
   ]
  },
  {
   "cell_type": "code",
   "execution_count": 27,
   "id": "4d155b8a",
   "metadata": {},
   "outputs": [
    {
     "data": {
      "text/plain": [
       "['Iqra KaramUllah', 'Data Scientist', 3800, '0.35%']"
      ]
     },
     "execution_count": 27,
     "metadata": {},
     "output_type": "execute_result"
    }
   ],
   "source": [
    "employee2"
   ]
  },
  {
   "cell_type": "code",
   "execution_count": 28,
   "id": "fd1fbd8e",
   "metadata": {},
   "outputs": [],
   "source": [
    "employee1[-2] += 500\n",
    "employee2[2] += 500"
   ]
  },
  {
   "cell_type": "code",
   "execution_count": 29,
   "id": "eac2bde3",
   "metadata": {},
   "outputs": [
    {
     "data": {
      "text/plain": [
       "['Muhammd Asad', 'Data Scientist', 4500, '0.5%']"
      ]
     },
     "execution_count": 29,
     "metadata": {},
     "output_type": "execute_result"
    }
   ],
   "source": [
    "employee1"
   ]
  },
  {
   "cell_type": "code",
   "execution_count": 30,
   "id": "534fe958",
   "metadata": {},
   "outputs": [
    {
     "data": {
      "text/plain": [
       "['Iqra KaramUllah', 'Data Scientist', 4300, '0.35%']"
      ]
     },
     "execution_count": 30,
     "metadata": {},
     "output_type": "execute_result"
    }
   ],
   "source": [
    "employee2"
   ]
  },
  {
   "cell_type": "code",
   "execution_count": 31,
   "id": "a5c865e8",
   "metadata": {},
   "outputs": [
    {
     "data": {
      "text/plain": [
       "1.1"
      ]
     },
     "execution_count": 31,
     "metadata": {},
     "output_type": "execute_result"
    }
   ],
   "source": [
    "(100+10)/100"
   ]
  },
  {
   "cell_type": "code",
   "execution_count": 32,
   "id": "eddaba23",
   "metadata": {},
   "outputs": [],
   "source": [
    "employees = [employee1, employee2, \"Waqas\"]"
   ]
  },
  {
   "cell_type": "code",
   "execution_count": 33,
   "id": "8ddaf1ef",
   "metadata": {},
   "outputs": [
    {
     "data": {
      "text/plain": [
       "[['Muhammd Asad', 'Data Scientist', 4500, '0.5%'],\n",
       " ['Iqra KaramUllah', 'Data Scientist', 4300, '0.35%'],\n",
       " 'Waqas']"
      ]
     },
     "execution_count": 33,
     "metadata": {},
     "output_type": "execute_result"
    }
   ],
   "source": [
    "employees"
   ]
  },
  {
   "cell_type": "code",
   "execution_count": 34,
   "id": "76874366",
   "metadata": {},
   "outputs": [
    {
     "data": {
      "text/plain": [
       "3"
      ]
     },
     "execution_count": 34,
     "metadata": {},
     "output_type": "execute_result"
    }
   ],
   "source": [
    "len(employees)"
   ]
  },
  {
   "cell_type": "code",
   "execution_count": 35,
   "id": "1059d776",
   "metadata": {},
   "outputs": [
    {
     "ename": "ValueError",
     "evalue": "list.remove(x): x not in list",
     "output_type": "error",
     "traceback": [
      "\u001b[1;31m---------------------------------------------------------------------------\u001b[0m",
      "\u001b[1;31mValueError\u001b[0m                                Traceback (most recent call last)",
      "Cell \u001b[1;32mIn[35], line 1\u001b[0m\n\u001b[1;32m----> 1\u001b[0m \u001b[43memployees\u001b[49m\u001b[38;5;241;43m.\u001b[39;49m\u001b[43mremove\u001b[49m\u001b[43m(\u001b[49m\u001b[38;5;124;43m\"\u001b[39;49m\u001b[38;5;124;43mwaqas\u001b[39;49m\u001b[38;5;124;43m\"\u001b[39;49m\u001b[43m)\u001b[49m\n",
      "\u001b[1;31mValueError\u001b[0m: list.remove(x): x not in list"
     ]
    }
   ],
   "source": [
    "employees.remove(\"waqas\")"
   ]
  },
  {
   "cell_type": "code",
   "execution_count": 36,
   "id": "eb36bc47",
   "metadata": {},
   "outputs": [],
   "source": [
    "employees.remove(\"Waqas\")"
   ]
  },
  {
   "cell_type": "code",
   "execution_count": 37,
   "id": "fa91c79d",
   "metadata": {},
   "outputs": [
    {
     "data": {
      "text/plain": [
       "87"
      ]
     },
     "execution_count": 37,
     "metadata": {},
     "output_type": "execute_result"
    }
   ],
   "source": [
    "ord(\"W\")"
   ]
  },
  {
   "cell_type": "code",
   "execution_count": 38,
   "id": "e73dc968",
   "metadata": {},
   "outputs": [
    {
     "data": {
      "text/plain": [
       "119"
      ]
     },
     "execution_count": 38,
     "metadata": {},
     "output_type": "execute_result"
    }
   ],
   "source": [
    "ord(\"w\")"
   ]
  },
  {
   "cell_type": "code",
   "execution_count": 39,
   "id": "b02cf7af",
   "metadata": {},
   "outputs": [
    {
     "data": {
      "text/plain": [
       "[['Muhammd Asad', 'Data Scientist', 4500, '0.5%'],\n",
       " ['Iqra KaramUllah', 'Data Scientist', 4300, '0.35%']]"
      ]
     },
     "execution_count": 39,
     "metadata": {},
     "output_type": "execute_result"
    }
   ],
   "source": [
    "employees"
   ]
  },
  {
   "cell_type": "code",
   "execution_count": 40,
   "id": "de58600a",
   "metadata": {},
   "outputs": [],
   "source": [
    "employees.append([\"Sajjad Ali\", \"Data Scientist\", 5500, \"0.6%\"])"
   ]
  },
  {
   "cell_type": "code",
   "execution_count": 43,
   "id": "bbd78feb",
   "metadata": {},
   "outputs": [
    {
     "data": {
      "text/plain": [
       "[['Muhammd Asad', 'Data Scientist', 4500, '0.5%'],\n",
       " ['Iqra KaramUllah', 'Data Scientist', 4300, '0.35%'],\n",
       " ['Sajjad Ali', 'Data Scientist', 5500, '0.6%']]"
      ]
     },
     "execution_count": 43,
     "metadata": {},
     "output_type": "execute_result"
    }
   ],
   "source": [
    "employees #nested list or list of list"
   ]
  },
  {
   "cell_type": "code",
   "execution_count": 44,
   "id": "c29b0655",
   "metadata": {},
   "outputs": [
    {
     "data": {
      "text/plain": [
       "'Sajjad Ali'"
      ]
     },
     "execution_count": 44,
     "metadata": {},
     "output_type": "execute_result"
    }
   ],
   "source": [
    "employees[-1][0] #Double Indexing, in Nested List"
   ]
  },
  {
   "cell_type": "code",
   "execution_count": 77,
   "id": "bc168caf",
   "metadata": {},
   "outputs": [],
   "source": [
    "contributions = None"
   ]
  },
  {
   "cell_type": "code",
   "execution_count": 78,
   "id": "fb22be1c",
   "metadata": {},
   "outputs": [],
   "source": [
    "contributions =\"40.50;30.93;15.25,18.25\""
   ]
  },
  {
   "cell_type": "code",
   "execution_count": 79,
   "id": "ebee5e78",
   "metadata": {},
   "outputs": [
    {
     "data": {
      "text/plain": [
       "str"
      ]
     },
     "execution_count": 79,
     "metadata": {},
     "output_type": "execute_result"
    }
   ],
   "source": [
    "type(contributions)"
   ]
  },
  {
   "cell_type": "code",
   "execution_count": 80,
   "id": "d6dcbc7f",
   "metadata": {},
   "outputs": [
    {
     "data": {
      "text/plain": [
       "['__add__',\n",
       " '__class__',\n",
       " '__contains__',\n",
       " '__delattr__',\n",
       " '__dir__',\n",
       " '__doc__',\n",
       " '__eq__',\n",
       " '__format__',\n",
       " '__ge__',\n",
       " '__getattribute__',\n",
       " '__getitem__',\n",
       " '__getnewargs__',\n",
       " '__gt__',\n",
       " '__hash__',\n",
       " '__init__',\n",
       " '__init_subclass__',\n",
       " '__iter__',\n",
       " '__le__',\n",
       " '__len__',\n",
       " '__lt__',\n",
       " '__mod__',\n",
       " '__mul__',\n",
       " '__ne__',\n",
       " '__new__',\n",
       " '__reduce__',\n",
       " '__reduce_ex__',\n",
       " '__repr__',\n",
       " '__rmod__',\n",
       " '__rmul__',\n",
       " '__setattr__',\n",
       " '__sizeof__',\n",
       " '__str__',\n",
       " '__subclasshook__',\n",
       " 'capitalize',\n",
       " 'casefold',\n",
       " 'center',\n",
       " 'count',\n",
       " 'encode',\n",
       " 'endswith',\n",
       " 'expandtabs',\n",
       " 'find',\n",
       " 'format',\n",
       " 'format_map',\n",
       " 'index',\n",
       " 'isalnum',\n",
       " 'isalpha',\n",
       " 'isascii',\n",
       " 'isdecimal',\n",
       " 'isdigit',\n",
       " 'isidentifier',\n",
       " 'islower',\n",
       " 'isnumeric',\n",
       " 'isprintable',\n",
       " 'isspace',\n",
       " 'istitle',\n",
       " 'isupper',\n",
       " 'join',\n",
       " 'ljust',\n",
       " 'lower',\n",
       " 'lstrip',\n",
       " 'maketrans',\n",
       " 'partition',\n",
       " 'removeprefix',\n",
       " 'removesuffix',\n",
       " 'replace',\n",
       " 'rfind',\n",
       " 'rindex',\n",
       " 'rjust',\n",
       " 'rpartition',\n",
       " 'rsplit',\n",
       " 'rstrip',\n",
       " 'split',\n",
       " 'splitlines',\n",
       " 'startswith',\n",
       " 'strip',\n",
       " 'swapcase',\n",
       " 'title',\n",
       " 'translate',\n",
       " 'upper',\n",
       " 'zfill']"
      ]
     },
     "execution_count": 80,
     "metadata": {},
     "output_type": "execute_result"
    }
   ],
   "source": [
    "dir(str)"
   ]
  },
  {
   "cell_type": "code",
   "execution_count": 81,
   "id": "361c2b15",
   "metadata": {},
   "outputs": [
    {
     "data": {
      "text/plain": [
       "['__add__',\n",
       " '__class__',\n",
       " '__contains__',\n",
       " '__delattr__',\n",
       " '__dir__',\n",
       " '__doc__',\n",
       " '__eq__',\n",
       " '__format__',\n",
       " '__ge__',\n",
       " '__getattribute__',\n",
       " '__getitem__',\n",
       " '__getnewargs__',\n",
       " '__gt__',\n",
       " '__hash__',\n",
       " '__init__',\n",
       " '__init_subclass__',\n",
       " '__iter__',\n",
       " '__le__',\n",
       " '__len__',\n",
       " '__lt__',\n",
       " '__mod__',\n",
       " '__mul__',\n",
       " '__ne__',\n",
       " '__new__',\n",
       " '__reduce__',\n",
       " '__reduce_ex__',\n",
       " '__repr__',\n",
       " '__rmod__',\n",
       " '__rmul__',\n",
       " '__setattr__',\n",
       " '__sizeof__',\n",
       " '__str__',\n",
       " '__subclasshook__',\n",
       " 'capitalize',\n",
       " 'casefold',\n",
       " 'center',\n",
       " 'count',\n",
       " 'encode',\n",
       " 'endswith',\n",
       " 'expandtabs',\n",
       " 'find',\n",
       " 'format',\n",
       " 'format_map',\n",
       " 'index',\n",
       " 'isalnum',\n",
       " 'isalpha',\n",
       " 'isascii',\n",
       " 'isdecimal',\n",
       " 'isdigit',\n",
       " 'isidentifier',\n",
       " 'islower',\n",
       " 'isnumeric',\n",
       " 'isprintable',\n",
       " 'isspace',\n",
       " 'istitle',\n",
       " 'isupper',\n",
       " 'join',\n",
       " 'ljust',\n",
       " 'lower',\n",
       " 'lstrip',\n",
       " 'maketrans',\n",
       " 'partition',\n",
       " 'removeprefix',\n",
       " 'removesuffix',\n",
       " 'replace',\n",
       " 'rfind',\n",
       " 'rindex',\n",
       " 'rjust',\n",
       " 'rpartition',\n",
       " 'rsplit',\n",
       " 'rstrip',\n",
       " 'split',\n",
       " 'splitlines',\n",
       " 'startswith',\n",
       " 'strip',\n",
       " 'swapcase',\n",
       " 'title',\n",
       " 'translate',\n",
       " 'upper',\n",
       " 'zfill']"
      ]
     },
     "execution_count": 81,
     "metadata": {},
     "output_type": "execute_result"
    }
   ],
   "source": [
    "dir(contributions)"
   ]
  },
  {
   "cell_type": "raw",
   "id": "9eda0997",
   "metadata": {},
   "source": [
    "contributions"
   ]
  },
  {
   "cell_type": "code",
   "execution_count": 82,
   "id": "e2685e9a",
   "metadata": {},
   "outputs": [
    {
     "data": {
      "text/plain": [
       "['40.50', '30.93', '15.25,18.25']"
      ]
     },
     "execution_count": 82,
     "metadata": {},
     "output_type": "execute_result"
    }
   ],
   "source": [
    "contributions.split(\";\")   #split always return the values as a list. "
   ]
  },
  {
   "cell_type": "code",
   "execution_count": 83,
   "id": "e5dff500",
   "metadata": {},
   "outputs": [],
   "source": [
    "receipts = contributions.split(\";\") "
   ]
  },
  {
   "cell_type": "code",
   "execution_count": 84,
   "id": "ebf75063",
   "metadata": {},
   "outputs": [
    {
     "data": {
      "text/plain": [
       "['40.50', '30.93', '15.25,18.25']"
      ]
     },
     "execution_count": 84,
     "metadata": {},
     "output_type": "execute_result"
    }
   ],
   "source": [
    "receipts"
   ]
  },
  {
   "cell_type": "code",
   "execution_count": 85,
   "id": "64458582",
   "metadata": {},
   "outputs": [],
   "source": [
    "fixed_values = receipts[2].split(\",\")"
   ]
  },
  {
   "cell_type": "code",
   "execution_count": 86,
   "id": "87ef128e",
   "metadata": {},
   "outputs": [
    {
     "data": {
      "text/plain": [
       "['15.25', '18.25']"
      ]
     },
     "execution_count": 86,
     "metadata": {},
     "output_type": "execute_result"
    }
   ],
   "source": [
    "fixed_values"
   ]
  },
  {
   "cell_type": "code",
   "execution_count": 87,
   "id": "98ac7c9c",
   "metadata": {},
   "outputs": [],
   "source": [
    "receipts.append(fixed_values)"
   ]
  },
  {
   "cell_type": "code",
   "execution_count": 88,
   "id": "ff4b7e5e",
   "metadata": {},
   "outputs": [
    {
     "data": {
      "text/plain": [
       "['40.50', '30.93', '15.25,18.25', ['15.25', '18.25']]"
      ]
     },
     "execution_count": 88,
     "metadata": {},
     "output_type": "execute_result"
    }
   ],
   "source": [
    "receipts"
   ]
  },
  {
   "cell_type": "code",
   "execution_count": 89,
   "id": "544bcd50",
   "metadata": {},
   "outputs": [],
   "source": [
    "del receipts[-1]\n",
    "del receipts[-1]\n"
   ]
  },
  {
   "cell_type": "code",
   "execution_count": 90,
   "id": "a91963a6",
   "metadata": {},
   "outputs": [
    {
     "data": {
      "text/plain": [
       "['40.50', '30.93']"
      ]
     },
     "execution_count": 90,
     "metadata": {},
     "output_type": "execute_result"
    }
   ],
   "source": [
    "receipts"
   ]
  },
  {
   "cell_type": "code",
   "execution_count": 91,
   "id": "f1767a96",
   "metadata": {},
   "outputs": [],
   "source": [
    "receipts.extend(fixed_values)"
   ]
  },
  {
   "cell_type": "code",
   "execution_count": 92,
   "id": "4fba264b",
   "metadata": {},
   "outputs": [
    {
     "data": {
      "text/plain": [
       "['40.50', '30.93', '15.25', '18.25']"
      ]
     },
     "execution_count": 92,
     "metadata": {},
     "output_type": "execute_result"
    }
   ],
   "source": [
    "receipts"
   ]
  },
  {
   "cell_type": "code",
   "execution_count": 94,
   "id": "77569052",
   "metadata": {},
   "outputs": [
    {
     "name": "stdout",
     "output_type": "stream",
     "text": [
      "40.50\n",
      "30.93\n",
      "15.25\n",
      "18.25\n"
     ]
    }
   ],
   "source": [
    "# Loop\n",
    "\n",
    "\n",
    "\n",
    "for d in receipts:\n",
    "    print(d)"
   ]
  },
  {
   "cell_type": "code",
   "execution_count": 95,
   "id": "8d2848dd",
   "metadata": {},
   "outputs": [],
   "source": [
    "import time"
   ]
  },
  {
   "cell_type": "code",
   "execution_count": 97,
   "id": "10009f39",
   "metadata": {},
   "outputs": [
    {
     "name": "stdout",
     "output_type": "stream",
     "text": [
      "40.50\n",
      "30.93\n",
      "15.25\n",
      "18.25\n"
     ]
    }
   ],
   "source": [
    "\n",
    "for d in receipts:\n",
    "    print(d)\n",
    "    time.sleep(01.5)"
   ]
  },
  {
   "cell_type": "code",
   "execution_count": 98,
   "id": "1edab286",
   "metadata": {},
   "outputs": [
    {
     "data": {
      "text/plain": [
       "['Muhammd Asad', 'Data Scientist', 4500, '0.5%']"
      ]
     },
     "execution_count": 98,
     "metadata": {},
     "output_type": "execute_result"
    }
   ],
   "source": [
    "employee1"
   ]
  },
  {
   "cell_type": "code",
   "execution_count": 100,
   "id": "6f3952f4",
   "metadata": {},
   "outputs": [
    {
     "data": {
      "text/plain": [
       "['Data Scientist', 4500, '0.5%']"
      ]
     },
     "execution_count": 100,
     "metadata": {},
     "output_type": "execute_result"
    }
   ],
   "source": [
    "employee1[1:]   #range of list"
   ]
  },
  {
   "cell_type": "code",
   "execution_count": 101,
   "id": "49b88b02",
   "metadata": {},
   "outputs": [
    {
     "data": {
      "text/plain": [
       "['Data Scientist', 4500]"
      ]
     },
     "execution_count": 101,
     "metadata": {},
     "output_type": "execute_result"
    }
   ],
   "source": [
    "employee1[1:-1] "
   ]
  },
  {
   "cell_type": "code",
   "execution_count": null,
   "id": "39bce3fc",
   "metadata": {},
   "outputs": [],
   "source": []
  }
 ],
 "metadata": {
  "kernelspec": {
   "display_name": "Python 3 (ipykernel)",
   "language": "python",
   "name": "python3"
  },
  "language_info": {
   "codemirror_mode": {
    "name": "ipython",
    "version": 3
   },
   "file_extension": ".py",
   "mimetype": "text/x-python",
   "name": "python",
   "nbconvert_exporter": "python",
   "pygments_lexer": "ipython3",
   "version": "3.10.9"
  }
 },
 "nbformat": 4,
 "nbformat_minor": 5
}
