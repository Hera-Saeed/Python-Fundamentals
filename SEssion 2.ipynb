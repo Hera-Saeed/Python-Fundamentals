{
 "cells": [
  {
   "cell_type": "markdown",
   "id": "ee12e338",
   "metadata": {},
   "source": [
    "# PEMDAS"
   ]
  },
  {
   "cell_type": "code",
   "execution_count": 1,
   "id": "ca615ba1",
   "metadata": {},
   "outputs": [],
   "source": [
    "# 2+3*2+(3-2)**4\n",
    "\n",
    "# 2+3*2+(1)**4\n",
    "\n",
    "# 2+3*2+1\n",
    "\n",
    "# 2+6+1"
   ]
  },
  {
   "cell_type": "code",
   "execution_count": 2,
   "id": "d90ec93a",
   "metadata": {},
   "outputs": [
    {
     "data": {
      "text/plain": [
       "9"
      ]
     },
     "execution_count": 2,
     "metadata": {},
     "output_type": "execute_result"
    }
   ],
   "source": [
    "2+3*2+(3-2)**4\n",
    "\n",
    "2+3*2+(1)**4\n",
    "\n",
    "2+3*2+1\n",
    "\n",
    "2+6+1"
   ]
  },
  {
   "cell_type": "code",
   "execution_count": 3,
   "id": "7016d5ae",
   "metadata": {},
   "outputs": [
    {
     "name": "stdout",
     "output_type": "stream",
     "text": [
      "9\n"
     ]
    },
    {
     "data": {
      "text/plain": [
       "9"
      ]
     },
     "execution_count": 3,
     "metadata": {},
     "output_type": "execute_result"
    }
   ],
   "source": [
    "print(2+3*2+(3-2)**4)   #line of code\n",
    "\n",
    "2+3*2+(1)**4\n",
    "\n",
    "2+3*2+1\n",
    "\n",
    "2+6+1\n",
    "# code, program, computer program"
   ]
  },
  {
   "cell_type": "code",
   "execution_count": 4,
   "id": "87c6db5a",
   "metadata": {},
   "outputs": [],
   "source": [
    "num = 2+3*2+(3-2)**4  #'=' assignment operator"
   ]
  },
  {
   "cell_type": "code",
   "execution_count": 5,
   "id": "9cbf2ef8",
   "metadata": {},
   "outputs": [
    {
     "data": {
      "text/plain": [
       "9"
      ]
     },
     "execution_count": 5,
     "metadata": {},
     "output_type": "execute_result"
    }
   ],
   "source": [
    "num"
   ]
  },
  {
   "cell_type": "code",
   "execution_count": 6,
   "id": "7ed4bd8a",
   "metadata": {},
   "outputs": [],
   "source": [
    "salary = 5000"
   ]
  },
  {
   "cell_type": "code",
   "execution_count": 7,
   "id": "d80868cd",
   "metadata": {},
   "outputs": [
    {
     "data": {
      "text/plain": [
       "5000"
      ]
     },
     "execution_count": 7,
     "metadata": {},
     "output_type": "execute_result"
    }
   ],
   "source": [
    "salary"
   ]
  },
  {
   "cell_type": "code",
   "execution_count": 8,
   "id": "5b276331",
   "metadata": {},
   "outputs": [
    {
     "data": {
      "text/plain": [
       "6000"
      ]
     },
     "execution_count": 8,
     "metadata": {},
     "output_type": "execute_result"
    }
   ],
   "source": [
    "salary + 1000"
   ]
  },
  {
   "cell_type": "code",
   "execution_count": 9,
   "id": "a762474e",
   "metadata": {},
   "outputs": [
    {
     "data": {
      "text/plain": [
       "5000"
      ]
     },
     "execution_count": 9,
     "metadata": {},
     "output_type": "execute_result"
    }
   ],
   "source": [
    "salary"
   ]
  },
  {
   "cell_type": "code",
   "execution_count": 10,
   "id": "fdd7ffa7",
   "metadata": {},
   "outputs": [],
   "source": [
    "salary = salary +1000"
   ]
  },
  {
   "cell_type": "code",
   "execution_count": 11,
   "id": "34fd0498",
   "metadata": {},
   "outputs": [
    {
     "data": {
      "text/plain": [
       "6000"
      ]
     },
     "execution_count": 11,
     "metadata": {},
     "output_type": "execute_result"
    }
   ],
   "source": [
    "salary"
   ]
  },
  {
   "cell_type": "code",
   "execution_count": 12,
   "id": "8d2115d5",
   "metadata": {},
   "outputs": [],
   "source": [
    "salary +=500     #salary = salary + 500"
   ]
  },
  {
   "cell_type": "code",
   "execution_count": 13,
   "id": "d5f1ba62",
   "metadata": {},
   "outputs": [
    {
     "data": {
      "text/plain": [
       "6500"
      ]
     },
     "execution_count": 13,
     "metadata": {},
     "output_type": "execute_result"
    }
   ],
   "source": [
    "salary"
   ]
  },
  {
   "cell_type": "code",
   "execution_count": 14,
   "id": "f71e87d5",
   "metadata": {},
   "outputs": [],
   "source": [
    "salary *= 2"
   ]
  },
  {
   "cell_type": "code",
   "execution_count": 15,
   "id": "33781ca6",
   "metadata": {},
   "outputs": [
    {
     "data": {
      "text/plain": [
       "13000"
      ]
     },
     "execution_count": 15,
     "metadata": {},
     "output_type": "execute_result"
    }
   ],
   "source": [
    "salary"
   ]
  },
  {
   "cell_type": "markdown",
   "id": "01bf1f94",
   "metadata": {},
   "source": [
    "- () paranthesis,\n",
    "- ** exponents,\n",
    "- `*` multiplication,\n",
    "- / division,\n",
    "* `+` addition,\n",
    "* `-` subtarction"
   ]
  },
  {
   "cell_type": "code",
   "execution_count": 16,
   "id": "3119b034",
   "metadata": {},
   "outputs": [],
   "source": [
    "e1 = \"shahzad\""
   ]
  },
  {
   "cell_type": "code",
   "execution_count": 17,
   "id": "7465da6f",
   "metadata": {},
   "outputs": [
    {
     "data": {
      "text/plain": [
       "'shahzad'"
      ]
     },
     "execution_count": 17,
     "metadata": {},
     "output_type": "execute_result"
    }
   ],
   "source": [
    "e1"
   ]
  },
  {
   "cell_type": "markdown",
   "id": "241c05a2",
   "metadata": {},
   "source": [
    "# Legality of Variables\n",
    "\n",
    "1. we can use letter, number and underscore\n",
    "2. Donot start with number\n",
    "3. keyword, reserve words"
   ]
  },
  {
   "cell_type": "code",
   "execution_count": 18,
   "id": "ae1f8559",
   "metadata": {},
   "outputs": [],
   "source": [
    "print = \"display screen\""
   ]
  },
  {
   "cell_type": "code",
   "execution_count": 19,
   "id": "bb3b6002",
   "metadata": {},
   "outputs": [
    {
     "ename": "TypeError",
     "evalue": "'str' object is not callable",
     "output_type": "error",
     "traceback": [
      "\u001b[1;31m---------------------------------------------------------------------------\u001b[0m",
      "\u001b[1;31mTypeError\u001b[0m                                 Traceback (most recent call last)",
      "Cell \u001b[1;32mIn[19], line 1\u001b[0m\n\u001b[1;32m----> 1\u001b[0m \u001b[38;5;28;43mprint\u001b[39;49m\u001b[43m(\u001b[49m\u001b[38;5;241;43m2\u001b[39;49m\u001b[38;5;241;43m+\u001b[39;49m\u001b[38;5;241;43m6\u001b[39;49m\u001b[43m)\u001b[49m\n",
      "\u001b[1;31mTypeError\u001b[0m: 'str' object is not callable"
     ]
    }
   ],
   "source": [
    "print(2+6)"
   ]
  },
  {
   "cell_type": "code",
   "execution_count": 20,
   "id": "2d34a172",
   "metadata": {},
   "outputs": [
    {
     "name": "stderr",
     "output_type": "stream",
     "text": [
      "<>:1: SyntaxWarning: 'str' object is not callable; perhaps you missed a comma?\n",
      "<>:1: SyntaxWarning: 'str' object is not callable; perhaps you missed a comma?\n",
      "C:\\Users\\heras\\AppData\\Local\\Temp\\ipykernel_40380\\3941713877.py:1: SyntaxWarning: 'str' object is not callable; perhaps you missed a comma?\n",
      "  \"display screen\"(2+4)\n",
      "C:\\Users\\heras\\AppData\\Local\\Temp\\ipykernel_40380\\3941713877.py:1: SyntaxWarning: 'str' object is not callable; perhaps you missed a comma?\n",
      "  \"display screen\"(2+4)\n",
      "C:\\Users\\heras\\AppData\\Local\\Temp\\ipykernel_40380\\3941713877.py:1: SyntaxWarning: 'str' object is not callable; perhaps you missed a comma?\n",
      "  \"display screen\"(2+4)\n"
     ]
    },
    {
     "ename": "TypeError",
     "evalue": "'str' object is not callable",
     "output_type": "error",
     "traceback": [
      "\u001b[1;31m---------------------------------------------------------------------------\u001b[0m",
      "\u001b[1;31mTypeError\u001b[0m                                 Traceback (most recent call last)",
      "Cell \u001b[1;32mIn[20], line 1\u001b[0m\n\u001b[1;32m----> 1\u001b[0m \u001b[38;5;124;43m\"\u001b[39;49m\u001b[38;5;124;43mdisplay screen\u001b[39;49m\u001b[38;5;124;43m\"\u001b[39;49m\u001b[43m(\u001b[49m\u001b[38;5;241;43m2\u001b[39;49m\u001b[38;5;241;43m+\u001b[39;49m\u001b[38;5;241;43m4\u001b[39;49m\u001b[43m)\u001b[49m\n",
      "\u001b[1;31mTypeError\u001b[0m: 'str' object is not callable"
     ]
    }
   ],
   "source": [
    "\"display screen\"(2+4)"
   ]
  },
  {
   "cell_type": "code",
   "execution_count": 21,
   "id": "cb85bdb7",
   "metadata": {},
   "outputs": [],
   "source": [
    "del print"
   ]
  },
  {
   "cell_type": "code",
   "execution_count": 22,
   "id": "04a9a4a1",
   "metadata": {},
   "outputs": [
    {
     "name": "stdout",
     "output_type": "stream",
     "text": [
      "8\n"
     ]
    }
   ],
   "source": [
    "print(2+6)"
   ]
  },
  {
   "cell_type": "code",
   "execution_count": 23,
   "id": "6b799345",
   "metadata": {},
   "outputs": [
    {
     "data": {
      "text/plain": [
       "'shahzad'"
      ]
     },
     "execution_count": 23,
     "metadata": {},
     "output_type": "execute_result"
    }
   ],
   "source": [
    "e1"
   ]
  },
  {
   "cell_type": "code",
   "execution_count": 24,
   "id": "954bc9ec",
   "metadata": {},
   "outputs": [],
   "source": [
    "e1 = \"Shazad Ahmed\""
   ]
  },
  {
   "cell_type": "code",
   "execution_count": 25,
   "id": "da296c45",
   "metadata": {},
   "outputs": [
    {
     "data": {
      "text/plain": [
       "'Shazad Ahmed'"
      ]
     },
     "execution_count": 25,
     "metadata": {},
     "output_type": "execute_result"
    }
   ],
   "source": [
    "e1"
   ]
  },
  {
   "cell_type": "code",
   "execution_count": 26,
   "id": "d8d5fe1d",
   "metadata": {},
   "outputs": [],
   "source": [
    "#e1 = \"Muhammad Shahzad Ahmed\""
   ]
  },
  {
   "cell_type": "code",
   "execution_count": 27,
   "id": "c2936584",
   "metadata": {},
   "outputs": [
    {
     "data": {
      "text/plain": [
       "'Muhammad Shazad Ahmed'"
      ]
     },
     "execution_count": 27,
     "metadata": {},
     "output_type": "execute_result"
    }
   ],
   "source": [
    "\"Muhammad \" + e1 # how to concatenate a string in a string variable"
   ]
  },
  {
   "cell_type": "code",
   "execution_count": 28,
   "id": "3754807f",
   "metadata": {},
   "outputs": [
    {
     "data": {
      "text/plain": [
       "'Shazad Ahmed'"
      ]
     },
     "execution_count": 28,
     "metadata": {},
     "output_type": "execute_result"
    }
   ],
   "source": [
    "e1  # e1 is still the previous value"
   ]
  },
  {
   "cell_type": "code",
   "execution_count": 29,
   "id": "f769edcf",
   "metadata": {},
   "outputs": [],
   "source": [
    "e1 = \"Muhammad \" + e1  # update the variable e1"
   ]
  },
  {
   "cell_type": "code",
   "execution_count": 30,
   "id": "b5fed340",
   "metadata": {},
   "outputs": [
    {
     "data": {
      "text/plain": [
       "'Muhammad Shazad Ahmed'"
      ]
     },
     "execution_count": 30,
     "metadata": {},
     "output_type": "execute_result"
    }
   ],
   "source": [
    "e1"
   ]
  },
  {
   "cell_type": "code",
   "execution_count": 31,
   "id": "7b1f1b52",
   "metadata": {},
   "outputs": [
    {
     "data": {
      "text/plain": [
       "str"
      ]
     },
     "execution_count": 31,
     "metadata": {},
     "output_type": "execute_result"
    }
   ],
   "source": [
    "type(e1)"
   ]
  },
  {
   "cell_type": "code",
   "execution_count": 32,
   "id": "6235a0ad",
   "metadata": {},
   "outputs": [
    {
     "data": {
      "text/plain": [
       "'38.72'"
      ]
     },
     "execution_count": 32,
     "metadata": {},
     "output_type": "execute_result"
    }
   ],
   "source": [
    "\"38.72\""
   ]
  },
  {
   "cell_type": "code",
   "execution_count": 33,
   "id": "07ba73a3",
   "metadata": {},
   "outputs": [
    {
     "data": {
      "text/plain": [
       "str"
      ]
     },
     "execution_count": 33,
     "metadata": {},
     "output_type": "execute_result"
    }
   ],
   "source": [
    "type(\"38.72\")"
   ]
  },
  {
   "cell_type": "code",
   "execution_count": 34,
   "id": "ae4c1510",
   "metadata": {},
   "outputs": [],
   "source": [
    "# Type casting: changing the type of data from 1 type to another data type"
   ]
  },
  {
   "cell_type": "code",
   "execution_count": 35,
   "id": "ac959ea8",
   "metadata": {},
   "outputs": [],
   "source": [
    "mhrs = \"38.72\""
   ]
  },
  {
   "cell_type": "markdown",
   "id": "59ea333f",
   "metadata": {},
   "source": [
    "int, float, str"
   ]
  },
  {
   "cell_type": "code",
   "execution_count": 36,
   "id": "05aaca08",
   "metadata": {},
   "outputs": [
    {
     "data": {
      "text/plain": [
       "38.72"
      ]
     },
     "execution_count": 36,
     "metadata": {},
     "output_type": "execute_result"
    }
   ],
   "source": [
    "float(mhrs)"
   ]
  },
  {
   "cell_type": "code",
   "execution_count": 37,
   "id": "5f4864f1",
   "metadata": {},
   "outputs": [
    {
     "data": {
      "text/plain": [
       "str"
      ]
     },
     "execution_count": 37,
     "metadata": {},
     "output_type": "execute_result"
    }
   ],
   "source": [
    "type(mhrs)"
   ]
  },
  {
   "cell_type": "code",
   "execution_count": 38,
   "id": "6696be4b",
   "metadata": {},
   "outputs": [],
   "source": [
    "mhrs = float(mhrs)   #This is type casting"
   ]
  },
  {
   "cell_type": "code",
   "execution_count": 39,
   "id": "7f26f64f",
   "metadata": {},
   "outputs": [
    {
     "data": {
      "text/plain": [
       "38.72"
      ]
     },
     "execution_count": 39,
     "metadata": {},
     "output_type": "execute_result"
    }
   ],
   "source": [
    "mhrs"
   ]
  },
  {
   "cell_type": "code",
   "execution_count": 40,
   "id": "9dcbc279",
   "metadata": {},
   "outputs": [
    {
     "ename": "TypeError",
     "evalue": "can only concatenate str (not \"int\") to str",
     "output_type": "error",
     "traceback": [
      "\u001b[1;31m---------------------------------------------------------------------------\u001b[0m",
      "\u001b[1;31mTypeError\u001b[0m                                 Traceback (most recent call last)",
      "Cell \u001b[1;32mIn[40], line 1\u001b[0m\n\u001b[1;32m----> 1\u001b[0m \u001b[38;5;124;43m\"\u001b[39;49m\u001b[38;5;124;43mIts our\u001b[39;49m\u001b[38;5;124;43m\"\u001b[39;49m\u001b[43m \u001b[49m\u001b[38;5;241;43m+\u001b[39;49m\u001b[43m \u001b[49m\u001b[38;5;241;43m2\u001b[39;49m \u001b[38;5;241m+\u001b[39m \u001b[38;5;124m\"\u001b[39m\u001b[38;5;124msession\u001b[39m\u001b[38;5;124m\"\u001b[39m\n",
      "\u001b[1;31mTypeError\u001b[0m: can only concatenate str (not \"int\") to str"
     ]
    }
   ],
   "source": [
    "\"Its our\" + 2 + \"session\""
   ]
  },
  {
   "cell_type": "code",
   "execution_count": 41,
   "id": "9c77065f",
   "metadata": {},
   "outputs": [
    {
     "data": {
      "text/plain": [
       "'Its our2session'"
      ]
     },
     "execution_count": 41,
     "metadata": {},
     "output_type": "execute_result"
    }
   ],
   "source": [
    "\"Its our\" + str(2) + \"session\""
   ]
  },
  {
   "cell_type": "code",
   "execution_count": 42,
   "id": "3e3f086d",
   "metadata": {},
   "outputs": [
    {
     "data": {
      "text/plain": [
       "'Its oursession2'"
      ]
     },
     "execution_count": 42,
     "metadata": {},
     "output_type": "execute_result"
    }
   ],
   "source": [
    "\"Its our\"  + \"session\" + str(2)"
   ]
  },
  {
   "cell_type": "code",
   "execution_count": 43,
   "id": "a0c7562f",
   "metadata": {},
   "outputs": [
    {
     "data": {
      "text/plain": [
       "'Its our session 2'"
      ]
     },
     "execution_count": 43,
     "metadata": {},
     "output_type": "execute_result"
    }
   ],
   "source": [
    "\"Its our \"  + \"session\" + \" \" + str(2)"
   ]
  },
  {
   "cell_type": "code",
   "execution_count": 48,
   "id": "a810cf9c",
   "metadata": {},
   "outputs": [],
   "source": [
    "e2 = \"waqas\"\n",
    "e3 = \"Hooriya\"\n",
    "e4 = \"Dr. Syed Inayat\""
   ]
  },
  {
   "cell_type": "markdown",
   "id": "0cbbc9e0",
   "metadata": {},
   "source": [
    "Data Structure: That give Structure to the Data"
   ]
  },
  {
   "cell_type": "markdown",
   "id": "209f2e14",
   "metadata": {},
   "source": [
    "List"
   ]
  },
  {
   "cell_type": "code",
   "execution_count": 49,
   "id": "15617450",
   "metadata": {},
   "outputs": [],
   "source": [
    "employees = []"
   ]
  },
  {
   "cell_type": "code",
   "execution_count": 50,
   "id": "ede9114b",
   "metadata": {},
   "outputs": [
    {
     "data": {
      "text/plain": [
       "list"
      ]
     },
     "execution_count": 50,
     "metadata": {},
     "output_type": "execute_result"
    }
   ],
   "source": [
    "type(employees)"
   ]
  },
  {
   "cell_type": "code",
   "execution_count": 51,
   "id": "b581589b",
   "metadata": {},
   "outputs": [],
   "source": [
    "employees = [\"Muhammad Shahzad Ahmed\", e2, e3, e4, \"Shamia\"]"
   ]
  },
  {
   "cell_type": "code",
   "execution_count": 52,
   "id": "e726660b",
   "metadata": {},
   "outputs": [
    {
     "data": {
      "text/plain": [
       "['Muhammad Shahzad Ahmed', 'waqas', 'Hooriya', 'Dr. Syed Inayat', 'Shamia']"
      ]
     },
     "execution_count": 52,
     "metadata": {},
     "output_type": "execute_result"
    }
   ],
   "source": [
    "employees"
   ]
  },
  {
   "cell_type": "markdown",
   "id": "18ba2025",
   "metadata": {},
   "source": [
    "List is an ordered collection"
   ]
  },
  {
   "cell_type": "code",
   "execution_count": 54,
   "id": "2e478e7b",
   "metadata": {},
   "outputs": [],
   "source": [
    "# Python is a \"0\" zero-indexed language "
   ]
  },
  {
   "cell_type": "code",
   "execution_count": 55,
   "id": "995fc837",
   "metadata": {},
   "outputs": [
    {
     "data": {
      "text/plain": [
       "'Hooriya'"
      ]
     },
     "execution_count": 55,
     "metadata": {},
     "output_type": "execute_result"
    }
   ],
   "source": [
    "employees[2]"
   ]
  },
  {
   "cell_type": "code",
   "execution_count": 56,
   "id": "a7e4d1a7",
   "metadata": {},
   "outputs": [
    {
     "data": {
      "text/plain": [
       "'Hooriya'"
      ]
     },
     "execution_count": 56,
     "metadata": {},
     "output_type": "execute_result"
    }
   ],
   "source": [
    "employees[-3]"
   ]
  },
  {
   "cell_type": "code",
   "execution_count": 57,
   "id": "118c5840",
   "metadata": {},
   "outputs": [
    {
     "data": {
      "text/plain": [
       "'Shamia'"
      ]
     },
     "execution_count": 57,
     "metadata": {},
     "output_type": "execute_result"
    }
   ],
   "source": [
    "employees[4]"
   ]
  },
  {
   "cell_type": "code",
   "execution_count": 58,
   "id": "96381f5f",
   "metadata": {},
   "outputs": [
    {
     "data": {
      "text/plain": [
       "38"
      ]
     },
     "execution_count": 58,
     "metadata": {},
     "output_type": "execute_result"
    }
   ],
   "source": [
    "int(mhrs)"
   ]
  },
  {
   "cell_type": "code",
   "execution_count": 59,
   "id": "84a547be",
   "metadata": {},
   "outputs": [
    {
     "data": {
      "text/plain": [
       "5"
      ]
     },
     "execution_count": 59,
     "metadata": {},
     "output_type": "execute_result"
    }
   ],
   "source": [
    "len(employees)"
   ]
  },
  {
   "cell_type": "code",
   "execution_count": null,
   "id": "0b007e7a",
   "metadata": {},
   "outputs": [],
   "source": []
  }
 ],
 "metadata": {
  "kernelspec": {
   "display_name": "Python 3 (ipykernel)",
   "language": "python",
   "name": "python3"
  },
  "language_info": {
   "codemirror_mode": {
    "name": "ipython",
    "version": 3
   },
   "file_extension": ".py",
   "mimetype": "text/x-python",
   "name": "python",
   "nbconvert_exporter": "python",
   "pygments_lexer": "ipython3",
   "version": "3.10.9"
  }
 },
 "nbformat": 4,
 "nbformat_minor": 5
}
